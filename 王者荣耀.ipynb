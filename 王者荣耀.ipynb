{
 "cells": [
  {
   "cell_type": "code",
   "execution_count": null,
   "metadata": {},
   "outputs": [],
   "source": [
    "class wangzhe(object):\n",
    "    def __init__(self,a):\n",
    "        self.a=a\n",
    "    def xz(self):\n",
    "        if self.a==1:\n",
    "            print(\"人机\")\n",
    "        elif self.a==2:\n",
    "            print(\"多人对战\")\n",
    "        else:\n",
    "            print(\"对战\")\n",
    "    def shuru(self):\n",
    "        res=input(\"输入\")\n",
    "        print(res)\n",
    "    def select(self):\n",
    "        print(\"请选择人物\",\"灭霸\",\"黑寡妇\",\"美国队长\")\n",
    "        res=input(\">>\")\n",
    "        print(res)\n",
    "    def shuxing(self):\n",
    "        if self.a == \"灭霸\":\n",
    "            print(\"灭霸\",\"战力:1200\",\"防御:1209\")\n",
    "        elif self.a == \"黑寡妇\":\n",
    "            print(\"黑寡妇\",\"战力:1400\",\"防御:1090\")\n",
    "        else:\n",
    "            print(\"美国队长\",\"战力:888\",\"防御:999\")\n",
    "    def suiji(self):\n",
    "        import numpy as np\n",
    "        res=np.random.choice([\"灭霸\",\"黑寡妇\",\"美国队长\"])\n",
    "        print(res)\n",
    "    def duizhan(self):\n",
    "        print(\"是否进入游戏\",\"是\",\"否\")\n",
    "        self.a=input(\">>\")\n",
    "        print(self.a)\n",
    "        if self.a==\"是\":\n",
    "            print(\"游戏开始\")\n",
    "        elif self.a==\"否\":\n",
    "            print(\"游戏结束\")\n",
    "    def sure(self):\n",
    "        print(\"正在加载\")\n",
    "rong=wangzhe(1)\n",
    "rong.xz()\n",
    "rong.shuru()\n",
    "rong.select()\n",
    "rong.shuxing()\n",
    "rong.suiji()\n",
    "rong.duizhan()\n",
    "rong.sure()"
   ]
  }
 ],
 "metadata": {
  "kernelspec": {
   "display_name": "Python 3",
   "language": "python",
   "name": "python3"
  },
  "language_info": {
   "codemirror_mode": {
    "name": "ipython",
    "version": 3
   },
   "file_extension": ".py",
   "mimetype": "text/x-python",
   "name": "python",
   "nbconvert_exporter": "python",
   "pygments_lexer": "ipython3",
   "version": "3.7.3"
  }
 },
 "nbformat": 4,
 "nbformat_minor": 2
}
