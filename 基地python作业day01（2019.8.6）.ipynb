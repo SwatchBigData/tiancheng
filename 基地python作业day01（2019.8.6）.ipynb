{
 "cells": [
  {
   "cell_type": "code",
   "execution_count": 1,
   "metadata": {},
   "outputs": [
    {
     "name": "stdout",
     "output_type": "stream",
     "text": [
      "1.0 5.0 12.0 22.0 35.0 51.0 70.0 92.0 117.0 145.0\n",
      "176.0 210.0 247.0 287.0 330.0 376.0 425.0 477.0 532.0 590.0\n",
      "651.0 715.0 782.0 852.0 925.0 1001.0 1080.0 1162.0 1247.0 1335.0\n",
      "1426.0 1520.0 1617.0 1717.0 1820.0 1926.0 2035.0 2147.0 2262.0 2380.0\n",
      "2501.0 2625.0 2752.0 2882.0 3015.0 3151.0 3290.0 3432.0 3577.0 3725.0\n",
      "3876.0 4030.0 4187.0 4347.0 4510.0 4676.0 4845.0 5017.0 5192.0 5370.0\n",
      "5551.0 5735.0 5922.0 6112.0 6305.0 6501.0 6700.0 6902.0 7107.0 7315.0\n",
      "7526.0 7740.0 7957.0 8177.0 8400.0 8626.0 8855.0 9087.0 9322.0 9560.0\n",
      "9801.0 10045.0 10292.0 10542.0 10795.0 11051.0 11310.0 11572.0 11837.0 12105.0\n",
      "12376.0 12650.0 12927.0 13207.0 13490.0 13776.0 14065.0 14357.0 14652.0 14950.0\n"
     ]
    }
   ],
   "source": [
    "def getPentagonalNumber(n):\n",
    "    c = n*(3*n-1)/2\n",
    "    if n%10 !=0:\n",
    "        print(c,end=' ')\n",
    "    else:\n",
    "        print(c)\n",
    "        \n",
    "for i in range(1,101):\n",
    "    getPentagonalNumber(i)"
   ]
  },
  {
   "cell_type": "code",
   "execution_count": 23,
   "metadata": {},
   "outputs": [
    {
     "name": "stdout",
     "output_type": "stream",
     "text": [
      "1.05.012.022.035.051.070.092.0117.0145.0\n",
      "176.0210.0247.0287.0330.0376.0425.0477.0532.0590.0\n",
      "651.0715.0782.0852.0925.01001.01080.01162.01247.01335.0\n",
      "1426.01520.01617.01717.01820.01926.02035.02147.02262.02380.0\n",
      "2501.02625.02752.02882.03015.03151.03290.03432.03577.03725.0\n",
      "3876.04030.04187.04347.04510.04676.04845.05017.05192.05370.0\n",
      "5551.05735.05922.06112.06305.06501.06700.06902.07107.07315.0\n",
      "7526.07740.07957.08177.08400.08626.08855.09087.09322.09560.0\n",
      "9801.010045.010292.010542.010795.011051.011310.011572.011837.012105.0\n",
      "12376.012650.012927.013207.013490.013776.014065.014357.014652.014950.0\n"
     ]
    }
   ],
   "source": [
    "def getPentagonalNumber(n):\n",
    "    c = n*(3*n-1)/2\n",
    "    if n%10 !=0:\n",
    "        print(c,end='')\n",
    "    else:\n",
    "        print(c)\n",
    "for i in range(1,101):\n",
    "    getPentagonalNumber(i)\n",
    "        "
   ]
  },
  {
   "cell_type": "code",
   "execution_count": null,
   "metadata": {},
   "outputs": [],
   "source": [
    "#1、五角数"
   ]
  },
  {
   "cell_type": "code",
   "execution_count": 5,
   "metadata": {},
   "outputs": [
    {
     "name": "stdout",
     "output_type": "stream",
     "text": [
      "5\n",
      "10\n",
      "16\n"
     ]
    }
   ],
   "source": [
    "def sumDigits(n):\n",
    "    str_=str(n)\n",
    "    int_=0\n",
    "    for i in str_:\n",
    "        int_+=int(i)\n",
    "        print(int_)\n",
    "sumDigits(556)    "
   ]
  },
  {
   "cell_type": "code",
   "execution_count": null,
   "metadata": {},
   "outputs": [],
   "source": [
    "#2、求整数各个位数的和"
   ]
  },
  {
   "cell_type": "code",
   "execution_count": 7,
   "metadata": {},
   "outputs": [
    {
     "name": "stdout",
     "output_type": "stream",
     "text": [
      "[8, 10, 26]\n"
     ]
    }
   ],
   "source": [
    "def displayStotedNumbers(num1,num2,num3):\n",
    "    res=[num1,num2,num3]\n",
    "    res.sort()\n",
    "    print(res)\n",
    "displayStotedNumbers(8,10,26) "
   ]
  },
  {
   "cell_type": "code",
   "execution_count": null,
   "metadata": {},
   "outputs": [],
   "source": [
    "#3、输入三个整数升序排列"
   ]
  },
  {
   "cell_type": "code",
   "execution_count": 1,
   "metadata": {},
   "outputs": [
    {
     "name": "stdout",
     "output_type": "stream",
     "text": [
      "1 10041.666666666666\n",
      "2 10083.506944444443\n",
      "3 10125.521556712962\n",
      "4 10167.711229865932\n",
      "5 10210.076693323706\n",
      "6 10252.618679545889\n",
      "7 10295.337924043997\n",
      "8 10338.23516539418\n",
      "9 10381.311145249989\n",
      "10 10424.566608355197\n",
      "11 10468.002302556677\n",
      "12 10511.61897881733\n",
      "13 10555.41739122907\n",
      "14 10599.398297025858\n",
      "15 10643.5624565968\n",
      "16 10687.910633499287\n",
      "17 10732.4435944722\n",
      "18 10777.162109449167\n",
      "19 10822.066951571873\n",
      "20 10867.158897203422\n",
      "21 10912.43872594177\n",
      "22 10957.907220633195\n",
      "23 11003.565167385834\n",
      "24 11049.413355583274\n",
      "25 11095.452577898204\n",
      "26 11141.683630306114\n",
      "27 11188.107312099055\n",
      "28 11234.724425899467\n",
      "29 11281.535777674047\n",
      "30 11328.54217674769\n"
     ]
    }
   ],
   "source": [
    "def futureInvestmentValue(BJ,LL,years):\n",
    "    years = years+1\n",
    "    for i in range(1,years):\n",
    "        SY = BJ + BJ*LL\n",
    "        print(i,SY)\n",
    "        BJ=SY\n",
    "futureInvestmentValue(10000,0.05/12,30)"
   ]
  },
  {
   "cell_type": "code",
   "execution_count": null,
   "metadata": {},
   "outputs": [],
   "source": [
    "#4、计算未来投资值，BJ“本金”，LL“利率”，SY“收益"
   ]
  },
  {
   "cell_type": "code",
   "execution_count": 9,
   "metadata": {},
   "outputs": [
    {
     "name": "stdout",
     "output_type": "stream",
     "text": [
      "2  3  4  5  6  7  8  9  :  ;\n",
      "<  =  >  ?  @  A  B  C  D  E\n",
      "F  G  H  I  J  K  L  M  N  O\n",
      "P  Q  R  S  T  U  V  W  X  Y\n"
     ]
    }
   ],
   "source": [
    "def printChars(ch1,ch2,numberPerLine):\n",
    "    a=ord(ch1)+1\n",
    "    b=ord(ch2)\n",
    "    n=0\n",
    "    for i in range(a,b):\n",
    "        n=n+1\n",
    "        if n%numberPerLine !=0:\n",
    "            print(chr(i),end='  ')\n",
    "        else:\n",
    "            print(chr(i))\n",
    "printChars('1','Z',10)"
   ]
  },
  {
   "cell_type": "code",
   "execution_count": null,
   "metadata": {},
   "outputs": [],
   "source": [
    "#5、显示字符"
   ]
  },
  {
   "cell_type": "code",
   "execution_count": 10,
   "metadata": {},
   "outputs": [
    {
     "name": "stdout",
     "output_type": "stream",
     "text": [
      "2010 365天\n",
      "2011 365天\n",
      "2012 366天\n",
      "2013 365天\n",
      "2014 365天\n",
      "2015 365天\n",
      "2016 366天\n",
      "2017 365天\n",
      "2018 365天\n",
      "2019 365天\n",
      "2020 366天\n"
     ]
    }
   ],
   "source": [
    "def numberOfDaysInAYrea(year):\n",
    "    if year%100==0:\n",
    "        if year%400==0:\n",
    "            print(year,\"366天\")\n",
    "        else:\n",
    "            print(year,\"365天\")\n",
    "    elif year%4==0:\n",
    "        print(year,\"366天\")\n",
    "    else:\n",
    "        print(year,\"365天\")\n",
    "\n",
    "for year in range(2010,2021):\n",
    "    numberOfDaysInAYrea(year)"
   ]
  },
  {
   "cell_type": "code",
   "execution_count": null,
   "metadata": {},
   "outputs": [],
   "source": [
    "#6、一年的天数"
   ]
  },
  {
   "cell_type": "code",
   "execution_count": 11,
   "metadata": {},
   "outputs": [
    {
     "name": "stdout",
     "output_type": "stream",
     "text": [
      "两点间距离为： 2.8284271247461903\n"
     ]
    }
   ],
   "source": [
    "import math\n",
    "def distance(x1,y1,x2,y2):\n",
    "    q=(x1-x2)*(x1-x2)\n",
    "    w=(y1-y2)*(y1-y2)\n",
    "    e=q+w\n",
    "    dis= math.sqrt(e)\n",
    "    print(\"两点间距离为：\",dis)\n",
    "    \n",
    "distance(5,2,3,4)"
   ]
  },
  {
   "cell_type": "code",
   "execution_count": null,
   "metadata": {},
   "outputs": [],
   "source": [
    "#7、两点间距离"
   ]
  },
  {
   "cell_type": "code",
   "execution_count": 12,
   "metadata": {},
   "outputs": [
    {
     "name": "stdout",
     "output_type": "stream",
     "text": [
      "2 3\n",
      "3 7\n",
      "5 31\n",
      "7 127\n",
      "11 2047\n",
      "13 8191\n",
      "17 131071\n",
      "19 524287\n",
      "23 8388607\n",
      "29 536870911\n",
      "31 2147483647\n"
     ]
    }
   ],
   "source": [
    "def meisen(p):\n",
    "    q=pow(2,p)-1\n",
    "    m=2\n",
    "    if p==2:\n",
    "        print(p,q)\n",
    "    for i in range(2,p):\n",
    "        m=m+1\n",
    "        if p%i==0:\n",
    "            break\n",
    "        if m == p:\n",
    "            print(p,q)\n",
    "            \n",
    "for p in range(1,32):\n",
    "    meisen(p)"
   ]
  },
  {
   "cell_type": "code",
   "execution_count": null,
   "metadata": {},
   "outputs": [],
   "source": [
    "#8、如果一个素数可以写成2**（P-1）的形式，其中p是某个正整数，那么这个数就被称作梅森素数。编写程序找出p<=31的梅森素数。"
   ]
  },
  {
   "cell_type": "code",
   "execution_count": 16,
   "metadata": {},
   "outputs": [
    {
     "name": "stdout",
     "output_type": "stream",
     "text": [
      "本地时间为 : Thu Aug  8 20:57:31 2019\n"
     ]
    }
   ],
   "source": [
    "import time\n",
    "localtime = time.asctime(time.localtime(time.time()))\n",
    "print(\"本地时间为 :\", localtime)"
   ]
  },
  {
   "cell_type": "code",
   "execution_count": null,
   "metadata": {},
   "outputs": [],
   "source": [
    "#9、时间"
   ]
  },
  {
   "cell_type": "code",
   "execution_count": 17,
   "metadata": {},
   "outputs": [
    {
     "name": "stdout",
     "output_type": "stream",
     "text": [
      "您第一次抛出的点数为: 6\n",
      "您第二次抛出的点数为: 4\n",
      "您抛出的两次点数之和为： 10\n",
      "您第一次抛出的点数为: 5\n",
      "您第二次抛出的点数为: 4\n",
      "您抛出的两次点数之和为： 9\n",
      "请开始下一局！\n"
     ]
    }
   ],
   "source": [
    "import numpy as np\n",
    "def dianshu():\n",
    "    res1 = np.random.choice([1,2,3,4,5,6])\n",
    "    print(\"您第一次抛出的点数为:\",res1)\n",
    "    res2 = np.random.choice([1,2,3,4,5,6])\n",
    "    print(\"您第二次抛出的点数为:\",res2)\n",
    "    res = res1 + res2\n",
    "    print(\"您抛出的两次点数之和为：\",res)\n",
    "    return res\n",
    "res = dianshu()\n",
    "if res==2 or res==3 or res==12:\n",
    "    print(\"你输了！！！\")\n",
    "elif res==7 or res==11:\n",
    "    print(\"你赢了！！！\")\n",
    "else:\n",
    "    res3 = res\n",
    "    res = dianshu()\n",
    "    if res ==7 or res == res3:\n",
    "        print(\"你赢了！！！\")\n",
    "    else:\n",
    "        print(\"请开始下一局！\")"
   ]
  },
  {
   "cell_type": "code",
   "execution_count": null,
   "metadata": {},
   "outputs": [],
   "source": [
    "#10、投色子"
   ]
  },
  {
   "cell_type": "code",
   "execution_count": 1,
   "metadata": {},
   "outputs": [
    {
     "name": "stdout",
     "output_type": "stream",
     "text": [
      "人机\n",
      "输入1\n",
      "1\n",
      "请选择人物 灭霸 黑寡妇 美国队长\n",
      ">>1\n",
      "1\n",
      "美国队长 战力:888 防御:999\n",
      "灭霸\n",
      "是否进入游戏 是 否\n",
      ">>1\n",
      "1\n",
      "正在加载\n"
     ]
    }
   ],
   "source": [
    "class wangzhe(object):\n",
    "    def __init__(self,a):\n",
    "        self.a=a\n",
    "    def xz(self):\n",
    "        if self.a==1:\n",
    "            print(\"人机\")\n",
    "        elif self.a==2:\n",
    "            print(\"多人对战\")\n",
    "        else:\n",
    "            print(\"对战\")\n",
    "    def shuru(self):\n",
    "        res=input(\"输入\")\n",
    "        print(res)\n",
    "    def select(self):\n",
    "        print(\"请选择人物\",\"灭霸\",\"黑寡妇\",\"美国队长\")\n",
    "        res=input(\">>\")\n",
    "        print(res)\n",
    "    def shuxing(self):\n",
    "        if self.a == \"灭霸\":\n",
    "            print(\"灭霸\",\"战力:1200\",\"防御:1209\")\n",
    "        elif self.a == \"黑寡妇\":\n",
    "            print(\"黑寡妇\",\"战力:1400\",\"防御:1090\")\n",
    "        else:\n",
    "            print(\"美国队长\",\"战力:888\",\"防御:999\")\n",
    "    def suiji(self):\n",
    "        import numpy as np\n",
    "        res=np.random.choice([\"灭霸\",\"黑寡妇\",\"美国队长\"])\n",
    "        print(res)\n",
    "    def duizhan(self):\n",
    "        print(\"是否进入游戏\",\"是\",\"否\")\n",
    "        self.a=input(\">>\")\n",
    "        print(self.a)\n",
    "        if self.a==\"是\":\n",
    "            print(\"游戏开始\")\n",
    "        elif self.a==\"否\":\n",
    "            print(\"游戏结束\")\n",
    "    def sure(self):\n",
    "        print(\"正在加载\")\n",
    "rong=wangzhe(1)\n",
    "rong.xz()\n",
    "rong.shuru()\n",
    "rong.select()\n",
    "rong.shuxing()\n",
    "rong.suiji()\n",
    "rong.duizhan()\n",
    "rong.sure()"
   ]
  },
  {
   "cell_type": "code",
   "execution_count": null,
   "metadata": {},
   "outputs": [],
   "source": [
    "#王者荣耀"
   ]
  }
 ],
 "metadata": {
  "kernelspec": {
   "display_name": "Python 3",
   "language": "python",
   "name": "python3"
  },
  "language_info": {
   "codemirror_mode": {
    "name": "ipython",
    "version": 3
   },
   "file_extension": ".py",
   "mimetype": "text/x-python",
   "name": "python",
   "nbconvert_exporter": "python",
   "pygments_lexer": "ipython3",
   "version": "3.7.3"
  }
 },
 "nbformat": 4,
 "nbformat_minor": 2
}
